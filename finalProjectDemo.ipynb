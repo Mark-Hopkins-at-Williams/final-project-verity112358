{
 "cells": [
  {
   "cell_type": "markdown",
   "metadata": {},
   "source": [
    "# Lottery Ticket Hypothesis #\n",
    "\n",
    "- in class presentation slides: https://docs.google.com/presentation/d/1Nm6RUhbXupBMjHqfgOLI7XG-i80ujKnNvp3qc_YoBwQ/edit#slide=id.p"
   ]
  },
  {
   "cell_type": "code",
   "execution_count": 59,
   "metadata": {},
   "outputs": [],
   "source": [
    "from training import NeuralNetwork, load_mnist, minibatch_gd, winning_ticket, run_experiment\n",
    "from torch.nn.utils import prune\n",
    "import copy\n",
    "import matplotlib.pyplot as plt\n",
    "import numpy as np"
   ]
  },
  {
   "cell_type": "code",
   "execution_count": 19,
   "metadata": {},
   "outputs": [],
   "source": [
    "#initialize model, save original parameters by making a deep copy\n",
    "model = NeuralNetwork()\n",
    "model_copy = copy.deepcopy(model)"
   ]
  },
  {
   "cell_type": "code",
   "execution_count": 20,
   "metadata": {},
   "outputs": [
    {
     "name": "stderr",
     "output_type": "stream",
     "text": [
      "100%|██████████| 1875/1875 [00:08<00:00, 219.87it/s]\n",
      "100%|██████████| 79/79 [00:00<00:00, 282.78it/s]\n"
     ]
    },
    {
     "name": "stdout",
     "output_type": "stream",
     "text": [
      "Accuracy: 0.9307\n"
     ]
    },
    {
     "name": "stderr",
     "output_type": "stream",
     "text": [
      "100%|██████████| 1875/1875 [00:08<00:00, 220.56it/s]\n",
      "100%|██████████| 79/79 [00:00<00:00, 269.35it/s]\n"
     ]
    },
    {
     "name": "stdout",
     "output_type": "stream",
     "text": [
      "Accuracy: 0.9475\n"
     ]
    },
    {
     "name": "stderr",
     "output_type": "stream",
     "text": [
      "100%|██████████| 1875/1875 [00:08<00:00, 218.08it/s]\n",
      "100%|██████████| 79/79 [00:00<00:00, 290.45it/s]\n"
     ]
    },
    {
     "name": "stdout",
     "output_type": "stream",
     "text": [
      "Accuracy: 0.9565\n"
     ]
    },
    {
     "name": "stderr",
     "output_type": "stream",
     "text": [
      "100%|██████████| 1875/1875 [00:08<00:00, 218.95it/s]\n",
      "100%|██████████| 79/79 [00:00<00:00, 276.18it/s]\n"
     ]
    },
    {
     "name": "stdout",
     "output_type": "stream",
     "text": [
      "Accuracy: 0.9622\n"
     ]
    },
    {
     "name": "stderr",
     "output_type": "stream",
     "text": [
      "100%|██████████| 1875/1875 [00:08<00:00, 221.05it/s]\n",
      "100%|██████████| 79/79 [00:00<00:00, 270.43it/s]\n"
     ]
    },
    {
     "name": "stdout",
     "output_type": "stream",
     "text": [
      "Accuracy: 0.9656\n"
     ]
    },
    {
     "name": "stderr",
     "output_type": "stream",
     "text": [
      "100%|██████████| 1875/1875 [00:08<00:00, 221.91it/s]\n",
      "100%|██████████| 79/79 [00:00<00:00, 308.45it/s]\n"
     ]
    },
    {
     "name": "stdout",
     "output_type": "stream",
     "text": [
      "Accuracy: 0.9685\n"
     ]
    },
    {
     "name": "stderr",
     "output_type": "stream",
     "text": [
      "100%|██████████| 1875/1875 [00:08<00:00, 221.19it/s]\n",
      "100%|██████████| 79/79 [00:00<00:00, 299.40it/s]\n"
     ]
    },
    {
     "name": "stdout",
     "output_type": "stream",
     "text": [
      "Accuracy: 0.9707\n"
     ]
    },
    {
     "name": "stderr",
     "output_type": "stream",
     "text": [
      "100%|██████████| 1875/1875 [00:08<00:00, 218.30it/s]\n",
      "100%|██████████| 79/79 [00:00<00:00, 294.11it/s]\n"
     ]
    },
    {
     "name": "stdout",
     "output_type": "stream",
     "text": [
      "Accuracy: 0.9721\n"
     ]
    },
    {
     "name": "stderr",
     "output_type": "stream",
     "text": [
      "100%|██████████| 1875/1875 [00:07<00:00, 236.39it/s]\n",
      "100%|██████████| 79/79 [00:00<00:00, 300.06it/s]\n"
     ]
    },
    {
     "name": "stdout",
     "output_type": "stream",
     "text": [
      "Accuracy: 0.9741\n"
     ]
    },
    {
     "name": "stderr",
     "output_type": "stream",
     "text": [
      "100%|██████████| 1875/1875 [00:08<00:00, 216.96it/s]\n",
      "100%|██████████| 79/79 [00:00<00:00, 250.72it/s]"
     ]
    },
    {
     "name": "stdout",
     "output_type": "stream",
     "text": [
      "Accuracy: 0.9749\n"
     ]
    },
    {
     "name": "stderr",
     "output_type": "stream",
     "text": [
      "\n"
     ]
    }
   ],
   "source": [
    "#train model. starts at ~93% accuracy and converges to ~97.2% accuracy after 10 epochs\n",
    "\n",
    "train_set, test_set = load_mnist()\n",
    "num_epochs = 10\n",
    "o_n_accuracy = minibatch_gd(model, num_epochs, train_set, test_set)\n"
   ]
  },
  {
   "cell_type": "code",
   "execution_count": 21,
   "metadata": {},
   "outputs": [
    {
     "name": "stdout",
     "output_type": "stream",
     "text": [
      "PRUNING TRAINED NETWORK\n",
      "APPLYING MASK TO theta1\n",
      "APPLYING MASK TO theta2\n",
      "APPLYING MASK TO theta3\n",
      "APPLYING MASK TO theta4\n",
      "APPLYING MASK TO theta_final\n",
      "FINALIZING PRUNING\n",
      "NEW NETWORK\n",
      "[('theta1', Parameter containing:\n",
      "tensor([[-0.0305,  0.0569,  0.0309,  ...,  0.0568, -0.0000,  0.0000],\n",
      "        [-0.0000, -0.0873, -0.0000,  ..., -0.0317,  0.0812, -0.0782],\n",
      "        [ 0.0603, -0.0768,  0.0000,  ..., -0.0418,  0.0000, -0.0447],\n",
      "        ...,\n",
      "        [ 0.0000, -0.0000,  0.0663,  ..., -0.0812, -0.0000,  0.0000],\n",
      "        [ 0.0765, -0.0000,  0.0000,  ...,  0.0000, -0.0000, -0.0477],\n",
      "        [ 0.0453, -0.0400, -0.0795,  ...,  0.0575, -0.0580,  0.0858]],\n",
      "       requires_grad=True)), ('theta2', Parameter containing:\n",
      "tensor([[-0.0000,  0.0471,  0.0000,  ...,  0.0000,  0.0750, -0.0000],\n",
      "        [-0.0000,  0.0000, -0.0992,  ...,  0.0484,  0.0827, -0.0000],\n",
      "        [ 0.0000, -0.0577,  0.0571,  ...,  0.1008, -0.0000,  0.0762],\n",
      "        ...,\n",
      "        [-0.0000,  0.0685, -0.0739,  ...,  0.0000, -0.0000,  0.0547],\n",
      "        [ 0.0508,  0.0000,  0.0547,  ..., -0.0861,  0.0000,  0.1037],\n",
      "        [ 0.0903, -0.0000,  0.0000,  ..., -0.0958, -0.0972,  0.0000]],\n",
      "       requires_grad=True)), ('theta3', Parameter containing:\n",
      "tensor([[-0.0000,  0.0630, -0.1048,  ...,  0.0668,  0.0000, -0.0913],\n",
      "        [-0.0862,  0.0000,  0.0522,  ...,  0.0423,  0.0897,  0.0000],\n",
      "        [-0.0633, -0.0440,  0.0768,  ...,  0.0000,  0.0602,  0.0000],\n",
      "        ...,\n",
      "        [-0.0762,  0.0846,  0.0000,  ..., -0.0000,  0.0375,  0.0000],\n",
      "        [ 0.0990, -0.0702, -0.0000,  ...,  0.0000,  0.0481, -0.0831],\n",
      "        [-0.0901, -0.0925, -0.0881,  ..., -0.0362,  0.0000, -0.0485]],\n",
      "       requires_grad=True)), ('theta4', Parameter containing:\n",
      "tensor([[ 0.0824, -0.0000, -0.0000,  ..., -0.0000, -0.0000, -0.0000],\n",
      "        [-0.0550,  0.1084, -0.0727,  ..., -0.0000,  0.0596, -0.0460],\n",
      "        [-0.0725, -0.0649, -0.0952,  ..., -0.0537, -0.1063,  0.0000],\n",
      "        ...,\n",
      "        [ 0.0387,  0.0819, -0.0000,  ..., -0.0854, -0.0662,  0.0914],\n",
      "        [-0.1027, -0.0756,  0.0518,  ...,  0.0583, -0.0000, -0.0360],\n",
      "        [-0.0856,  0.0000,  0.0832,  ..., -0.0000,  0.0000, -0.1081]],\n",
      "       requires_grad=True)), ('theta_final', Parameter containing:\n",
      "tensor([[-0.0785,  0.1041, -0.0444,  ...,  0.0985,  0.0640,  0.0000],\n",
      "        [ 0.1034, -0.0000, -0.0000,  ..., -0.0657,  0.0982,  0.0411],\n",
      "        [ 0.0793,  0.0849,  0.0991,  ..., -0.0620,  0.0000, -0.0460],\n",
      "        ...,\n",
      "        [ 0.0649,  0.0382, -0.0584,  ...,  0.0595,  0.0323,  0.0000],\n",
      "        [-0.0382, -0.0589, -0.0000,  ..., -0.0253,  0.0262, -0.0922],\n",
      "        [ 0.0000, -0.0881,  0.0291,  ...,  0.0011,  0.0361,  0.0812]],\n",
      "       requires_grad=True))]\n"
     ]
    }
   ],
   "source": [
    "winning_ticket(model, model_copy, 0.3)"
   ]
  },
  {
   "cell_type": "code",
   "execution_count": 22,
   "metadata": {},
   "outputs": [
    {
     "name": "stderr",
     "output_type": "stream",
     "text": [
      "100%|██████████| 1875/1875 [00:08<00:00, 219.56it/s]\n",
      "100%|██████████| 79/79 [00:00<00:00, 301.40it/s]\n"
     ]
    },
    {
     "name": "stdout",
     "output_type": "stream",
     "text": [
      "Accuracy: 0.9516\n"
     ]
    },
    {
     "name": "stderr",
     "output_type": "stream",
     "text": [
      "100%|██████████| 1875/1875 [00:08<00:00, 222.19it/s]\n",
      "100%|██████████| 79/79 [00:00<00:00, 297.13it/s]\n"
     ]
    },
    {
     "name": "stdout",
     "output_type": "stream",
     "text": [
      "Accuracy: 0.9611\n"
     ]
    },
    {
     "name": "stderr",
     "output_type": "stream",
     "text": [
      "100%|██████████| 1875/1875 [00:08<00:00, 221.62it/s]\n",
      "100%|██████████| 79/79 [00:00<00:00, 294.66it/s]\n"
     ]
    },
    {
     "name": "stdout",
     "output_type": "stream",
     "text": [
      "Accuracy: 0.9663\n"
     ]
    },
    {
     "name": "stderr",
     "output_type": "stream",
     "text": [
      "100%|██████████| 1875/1875 [00:08<00:00, 218.53it/s]\n",
      "100%|██████████| 79/79 [00:00<00:00, 296.06it/s]\n"
     ]
    },
    {
     "name": "stdout",
     "output_type": "stream",
     "text": [
      "Accuracy: 0.9699\n"
     ]
    },
    {
     "name": "stderr",
     "output_type": "stream",
     "text": [
      "100%|██████████| 1875/1875 [00:08<00:00, 213.26it/s]\n",
      "100%|██████████| 79/79 [00:00<00:00, 284.58it/s]\n"
     ]
    },
    {
     "name": "stdout",
     "output_type": "stream",
     "text": [
      "Accuracy: 0.9716\n"
     ]
    },
    {
     "name": "stderr",
     "output_type": "stream",
     "text": [
      "100%|██████████| 1875/1875 [00:08<00:00, 208.57it/s]\n",
      "100%|██████████| 79/79 [00:00<00:00, 300.00it/s]\n"
     ]
    },
    {
     "name": "stdout",
     "output_type": "stream",
     "text": [
      "Accuracy: 0.9728\n"
     ]
    },
    {
     "name": "stderr",
     "output_type": "stream",
     "text": [
      "100%|██████████| 1875/1875 [00:09<00:00, 200.94it/s]\n",
      "100%|██████████| 79/79 [00:00<00:00, 275.51it/s]\n"
     ]
    },
    {
     "name": "stdout",
     "output_type": "stream",
     "text": [
      "Accuracy: 0.9747\n"
     ]
    },
    {
     "name": "stderr",
     "output_type": "stream",
     "text": [
      "100%|██████████| 1875/1875 [00:09<00:00, 204.43it/s]\n",
      "100%|██████████| 79/79 [00:00<00:00, 295.11it/s]\n"
     ]
    },
    {
     "name": "stdout",
     "output_type": "stream",
     "text": [
      "Accuracy: 0.9755\n"
     ]
    },
    {
     "name": "stderr",
     "output_type": "stream",
     "text": [
      "100%|██████████| 1875/1875 [00:08<00:00, 223.73it/s]\n",
      "100%|██████████| 79/79 [00:00<00:00, 315.57it/s]\n"
     ]
    },
    {
     "name": "stdout",
     "output_type": "stream",
     "text": [
      "Accuracy: 0.9761\n"
     ]
    },
    {
     "name": "stderr",
     "output_type": "stream",
     "text": [
      "100%|██████████| 1875/1875 [00:07<00:00, 236.45it/s]\n",
      "100%|██████████| 79/79 [00:00<00:00, 315.26it/s]"
     ]
    },
    {
     "name": "stdout",
     "output_type": "stream",
     "text": [
      "Accuracy: 0.9758\n"
     ]
    },
    {
     "name": "stderr",
     "output_type": "stream",
     "text": [
      "\n"
     ]
    }
   ],
   "source": [
    "#now we retrain the winning ticket - it should converge faster and to a higher accuracy than the original!\n",
    "p_n_accuracy = minibatch_gd(model_copy, num_epochs, train_set, test_set)"
   ]
  },
  {
   "cell_type": "code",
   "execution_count": null,
   "metadata": {},
   "outputs": [],
   "source": [
    "#run the entire experiment, where multiple prunings are compared!\n",
    "pruning_weights = [0.05, 0.5, 0.7, 0.95]\n",
    "epochs = 10\n",
    "train_dict, ticket_dict = run_experiment(pruning_weights, epochs)"
   ]
  },
  {
   "cell_type": "code",
   "execution_count": null,
   "metadata": {},
   "outputs": [],
   "source": [
    "#see the saved outputs that will be graphed below\n",
    "train_dict\n",
    "ticket_dict"
   ]
  },
  {
   "cell_type": "code",
   "execution_count": 97,
   "metadata": {},
   "outputs": [
    {
     "data": {
      "image/png": "[encoded data removed]",
      "text/plain": [
       "<Figure size 640x480 with 1 Axes>"
      ]
     },
     "metadata": {},
     "output_type": "display_data"
    }
   ],
   "source": [
    "#training outcome comparisons\n",
    "\n",
    "plt.plot(list(train_dict.keys())[:-2], list(train_dict.values())[:-2], label=\"unpruned\", \n",
    "         marker='o', markerfacecolor='white', color='grey')\n",
    "\n",
    "for i in range(len(pruning_weights)): \n",
    "    plt.plot(list(ticket_dict[0].keys())[:-2], list(ticket_dict[i].values())[:-2], \n",
    "             label=str(pruning_weights[i]*100)+'% pruned', \n",
    "             marker='o', linestyle='-', markerfacecolor='white')\n",
    "\n",
    "plt.xlabel('Epochs')\n",
    "plt.ylabel('Accuracy(%)')\n",
    "plt.legend()\n",
    "plt.show()"
   ]
  }
 ],
 "metadata": {
  "kernelspec": {
   "display_name": "Python 3",
   "language": "python",
   "name": "python3"
  },
  "language_info": {
   "codemirror_mode": {
    "name": "ipython",
    "version": 3
   },
   "file_extension": ".py",
   "mimetype": "text/x-python",
   "name": "python",
   "nbconvert_exporter": "python",
   "pygments_lexer": "ipython3",
   "version": "3.12.1"
  }
 },
 "nbformat": 4,
 "nbformat_minor": 2
}
